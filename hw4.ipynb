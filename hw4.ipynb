{
 "cells": [
  {
   "cell_type": "code",
   "execution_count": 1,
   "id": "87d18d35-7e2b-44f3-89e3-51d3443280f5",
   "metadata": {},
   "outputs": [],
   "source": [
    "# Stiff Robertson's problem from chemical kinetics as in\n",
    "# https://openmdao.github.io/dymos/examples/robertson_problem/robertson_problem.html\n",
    "import numpy as np\n",
    "import matplotlib.pyplot as plt\n",
    "\n",
    "a = 0.04\n",
    "b = 1.0e4\n",
    "c = 3.0e7\n",
    "\n",
    "# coefficients for BDF2:\n",
    "# u_{n+1} + alpha_0*u_n + alpha_1*u_{n-1} = h*beta_{-1}f_{n+1}\n",
    "bm1 = 2/3 # beta_{-1}\n",
    "a0 = -4/3 # alpha_0\n",
    "a1 = 1/3 # alpha_1\n",
    "\n",
    "# timestep, Tmax, tolearnce for Newton's solver\n",
    "h = 0.001\n",
    "Tmax = 40.0\n",
    "Nsteps = int(np.ceil(Tmax/h))\n",
    "tol = 1.0e-14\n",
    "itermax = 20\n",
    "\n",
    "# the right-hand side\n",
    "def func(y): \n",
    "    dy = np.zeros(3)\n",
    "    byz = b*y[1]*y[2]\n",
    "    cy2 = c*y[1]*y[1]\n",
    "    ax = a*y[0]\n",
    "    dy[0] = -ax + byz\n",
    "    dy[1] = ax - byz - cy2\n",
    "    dy[2] = cy2\n",
    "    return dy\n",
    "\n",
    "# the Jacobian matrix for the right-hand side\n",
    "def Jac(y):\n",
    "    by = b*y[1]\n",
    "    bz = b*y[2]\n",
    "    c2y = 2*c*y[1]\n",
    "    Jac = np.zeros((3,3))\n",
    "    Jac[0,0] = -a\n",
    "    Jac[0,1] = bz\n",
    "    Jac[0,2] = by\n",
    "    Jac[1,0] = a\n",
    "    Jac[1,1] = -bz-c2y\n",
    "    Jac[1,2] = -by\n",
    "    Jac[2,1] = c2y\n",
    "    return Jac\n",
    "\n",
    "y0 = np.array([1.0,0.0,0.0])\n",
    "\n",
    "def NewtonIterBDF(y,yn,yn1,h):\n",
    "    # yn = y(t_n)\n",
    "    # yn1 = y(t_{n-1})\n",
    "    F = y - bm1*h*func(y) + a0*yn + a1*yn1\n",
    "    DF = np.identity(3) - bm1*h*Jac(y)\n",
    "    return y - np.linalg.solve(DF,F)\n",
    "\n",
    "gamma = 1.0 - 1.0/np.sqrt(2)\n",
    "\n",
    "def NewtonIterDIRK2_k1(y,h,k1):\n",
    "    aux = y + h*gamma*k1\n",
    "    F = k1 - func(aux)\n",
    "    DF = np.identity(3) - h*gamma*Jac(aux)\n",
    "    return k1 - np.linalg.solve(DF,F)\n",
    "\n",
    "def NewtonIterDIRK2_k2(y,h,k1,k2):\n",
    "    aux = y + h*((1-gamma)*k1 + gamma*k2)\n",
    "    F = k2 - func(aux)\n",
    "    DF = np.identity(3) - h*gamma*Jac(aux)\n",
    "    return k2 - np.linalg.solve(DF,F)\n",
    "\n",
    "def DIRK2step(y,h):\n",
    "    k1 = func(y)\n",
    "    for j in range(itermax):\n",
    "        k1 = NewtonIterDIRK2_k1(y,h,k1)\n",
    "        if np.linalg.norm(k1 - func(y + h*gamma*k1)) < tol:\n",
    "            break\n",
    "    # print( np.linalg.norm(k1 - func(y + h*gamma*k1)))\n",
    "    # print(j)\n",
    "    k2 = k1\n",
    "    for j in range(itermax):\n",
    "        k2 = NewtonIterDIRK2_k2(y,h,k1,k2)\n",
    "        aux = y + h*((1-gamma)*k1 + gamma*k2)\n",
    "        if np.linalg.norm(k2 - func(aux)) < tol:\n",
    "            break\n",
    "    # print( np.linalg.norm(k2 - func(aux)))\n",
    "    # print(j)\n",
    "    return aux\n",
    "\n",
    "def BDF2(y,h)"
   ]
  },
  {
   "cell_type": "code",
   "execution_count": 2,
   "id": "2136557d-778b-409f-acb7-99ef5a7cbd38",
   "metadata": {},
   "outputs": [],
   "source": [
    "sol = np.zeros((Nsteps+1,3))\n",
    "t = np.arange(0,(Nsteps+1)*h,h)\n",
    "sol[0,:] = y0\n",
    "sol[1,:] = DIRK2step(y0,h)\n",
    "#print(sol[0:2,:])\n",
    "\n",
    "for j in range(1,Nsteps):\n",
    "    sol[j+1,:] = DIRK2step(sol[j,:],h)\n",
    "    \n",
    "    "
   ]
  },
  {
   "cell_type": "code",
   "execution_count": 3,
   "id": "680e5cf7-5c96-455e-8a08-349e55205172",
   "metadata": {},
   "outputs": [
    {
     "data": {
      "text/plain": [
       "Text(0, 0.5, 't')"
      ]
     },
     "execution_count": 3,
     "metadata": {},
     "output_type": "execute_result"
    },
    {
     "data": {
      "image/png": "[encoded data removed]",
      "text/plain": [
       "<Figure size 576x144 with 1 Axes>"
      ]
     },
     "metadata": {
      "needs_background": "light"
     },
     "output_type": "display_data"
    },
    {
     "data": {
      "image/png": "[encoded data removed]",
      "text/plain": [
       "<Figure size 576x144 with 1 Axes>"
      ]
     },
     "metadata": {
      "needs_background": "light"
     },
     "output_type": "display_data"
    },
    {
     "data": {
      "image/png": "[encoded data removed]",
      "text/plain": [
       "<Figure size 576x144 with 1 Axes>"
      ]
     },
     "metadata": {
      "needs_background": "light"
     },
     "output_type": "display_data"
    }
   ],
   "source": [
    "plt.rcParams.update({'font.size': 22})\n",
    "fig, ax = plt.subplots(figsize = (8,2))\n",
    "plt.plot(t,sol[:,0])\n",
    "plt.xlabel(\"x\")\n",
    "plt.ylabel(\"t\")\n",
    "fig, ax = plt.subplots(figsize = (8,2))\n",
    "plt.plot(t,sol[:,1])\n",
    "plt.xlabel(\"y\")\n",
    "plt.ylabel(\"t\")\n",
    "fig, ax = plt.subplots(figsize = (8,2))\n",
    "plt.plot(t,sol[:,2])\n",
    "plt.xlabel(\"z\")\n",
    "plt.ylabel(\"t\")\n"
   ]
  },
  {
   "cell_type": "code",
   "execution_count": null,
   "id": "a7823edb-7b31-4360-a563-bbd143ccb0f1",
   "metadata": {},
   "outputs": [],
   "source": []
  }
 ],
 "metadata": {
  "kernelspec": {
   "display_name": "Python 3 (ipykernel)",
   "language": "python",
   "name": "python3"
  },
  "language_info": {
   "codemirror_mode": {
    "name": "ipython",
    "version": 3
   },
   "file_extension": ".py",
   "mimetype": "text/x-python",
   "name": "python",
   "nbconvert_exporter": "python",
   "pygments_lexer": "ipython3",
   "version": "3.9.13"
  }
 },
 "nbformat": 4,
 "nbformat_minor": 5
}
