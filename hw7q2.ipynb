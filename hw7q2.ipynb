{
 "cells": [
  {
   "cell_type": "code",
   "execution_count": 93,
   "id": "6ca0c94b",
   "metadata": {},
   "outputs": [],
   "source": [
    "# Per-Olof Persson's code distmesh2D rewritten to Python and simplified\n",
    "import numpy as np\n",
    "import matplotlib.pyplot as plt\n",
    "import math\n",
    "from scipy.spatial import Delaunay\n",
    "from scipy import sparse\n",
    "\n",
    "# input arguments\n",
    "#      fd:        Distance function d(x,y)\n",
    "#      fh:        Scaled edge length function h(x,y)\n",
    "#      h0:        Initial edge length\n",
    "#      bbox:      Bounding box [xmin,ymin; xmax,ymax] MASHA: [xmin,xmax,ymin,ymax]\n",
    "#      pfix:      Fixed node positions (NFIXx2)\n",
    "\n",
    "# output\n",
    "#      pts:         Node positions (Nx2)\n",
    "#      tri:         Triangle indices (NTx3)\n",
    "\n",
    "def huniform(p):\n",
    "    m,n = np.shape(p)\n",
    "    return np.ones((m,1))\n",
    "\n",
    "def ddiff(d1,d2):\n",
    "    return np.maximum(d1,-d2)\n",
    "\n",
    "def dcircle(p,xc,yc,r):\n",
    "    return np.sqrt((p[:,0]-xc)**2+(p[:,1]-yc)**2)-r\n",
    "\n",
    "def drectangle(p,x1,x2,y1,y2):\n",
    "    d1 = np.minimum(-y1+p[:,1],y2-p[:,1])\n",
    "    d2 = np.minimum(d1,-x1+p[:,0])\n",
    "    return -np.minimum(d2,x2-p[:,0])\n",
    "\n",
    "def dintersect(d1,d2):\n",
    "    return np.maximum(d1,d2)\n",
    "\n",
    "def dunion(d1,d2):\n",
    "    return np.minimum(d1,d2)\n",
    "\n",
    "def triarea(pts,tri):\n",
    "    # calculates areas of mesh triangles\n",
    "    # p = [x_vec,y_vec]\n",
    "    # tri = [ind0,ind1,ind2]\n",
    "    d12 = pts[tri[:,1],:]-pts[tri[:,0],:]\n",
    "    d13 = pts[tri[:,2],:]-pts[tri[:,0],:]\n",
    "    A = d12[:,0]*d13[:,1]-d12[:,1]*d13[:,0]\n",
    "    return A\n",
    "\n",
    "def fixmesh(pts,tri):\n",
    "    TOL = 1.0e-10\n",
    "    # remove repeated nodes\n",
    "    pts,idx = np.unique(pts,axis = 0,return_inverse = True)\n",
    "    tri = np.reshape(idx[tri],np.shape(tri))\n",
    "    \n",
    "    # compute areas of mesh triangles\n",
    "    A = triarea(pts,tri)\n",
    "    idx_tri_reorder = np.argwhere(A < 0)\n",
    "    Nidx = np.size(idx_tri_reorder)\n",
    "    idx_tri_reorder = np.reshape(idx_tri_reorder,(Nidx,))\n",
    "    if np.any(idx_tri_reorder):\n",
    "        # reorder triangles with negative area\n",
    "        tmp = tri[idx_tri_reorder,0]\n",
    "        tri[idx_tri_reorder,0] = tri[idx_tri_reorder,1]\n",
    "        tri[idx_tri_reorder,1] = tmp\n",
    "    # remove triangles with too small area\n",
    "    idx_keep = np.argwhere(np.absolute(A) > TOL*np.linalg.norm(A,np.inf))\n",
    "    Nidx = np.size(idx_keep)\n",
    "    idx_keep = np.reshape(idx_keep,(Nidx,))\n",
    "    tri = tri[idx_keep,:]    \n",
    "    # remove unused nodes\n",
    "    Ntri,m = np.shape(tri)\n",
    "    t_col = np.reshape(tri,(Ntri*m,))\n",
    "    idx,iidx = np.unique(t_col,return_inverse = True)\n",
    "    pts = pts[idx,:]\n",
    "    tri = np.reshape(iidx,(Ntri,m))\n",
    "    return pts,tri\n",
    "\n",
    "def distmesh2D(fd,fh,h0,bbox,pfix):\n",
    "    # parameters\n",
    "    dptol=.001 \n",
    "    ttol=.1 \n",
    "    Fscale=1.2 \n",
    "    deltat=.2 \n",
    "    geps=.001*h0 \n",
    "    deps=math.sqrt(np.finfo(float).eps)*h0\n",
    "    MAXcount = 5000\n",
    "    densityctrlfreq=30\n",
    "    jshow = 200  # display progress every jshow iterations\n",
    "    \n",
    "    # define the initial set of points by \n",
    "    # making a mesh of equilateral triangles with side h0 and\n",
    "    # adding fixed points\n",
    "    \n",
    "    ax = np.arange(bbox[0],bbox[1],h0)\n",
    "    ay = np.arange(bbox[2],bbox[3],h0*math.sqrt(3)*0.5)\n",
    "    x,y = np.meshgrid(ax,ay)\n",
    "    nx,ny = np.shape(x)\n",
    "    nxy = nx*ny\n",
    "    x[1:nx:2,:]=x[1:nx:2,:] + h0*0.5   # Shift odd rows\n",
    "    x_vec = np.reshape(x, (nxy,1))\n",
    "    y_vec = np.reshape(y, (nxy,1))\n",
    "    pts = np.concatenate((x_vec,y_vec),axis=1)  # List of node coordinates\n",
    "    # remove points outside the region\n",
    "    jremove = np.argwhere(fd(pts) > geps)\n",
    "    Nj = np.size(jremove)\n",
    "    jremove = np.reshape(jremove,(Nj,))\n",
    "    pts = np.delete(pts,jremove,0)\n",
    "    if np.any(pfix): # if pfix is nonempty, i.e., there are fixed points\n",
    "        pfix = np.unique(pfix, axis = 0) # extract unique rows in pfix\n",
    "        nfix,d = np.shape(pfix)\n",
    "        pts = np.concatenate((pfix,pts),axis=0) # prepend fixed points\n",
    "    Npts = np.size(pts,0) # the number of points\n",
    "    \n",
    "    count = 0\n",
    "    displacement = math.inf\n",
    "    pts_old = math.inf\n",
    "        \n",
    "    while displacement > dptol and count < MAXcount:\n",
    "        count = count + 1\n",
    "        if max(np.sqrt(np.sum((pts-pts_old)**2,axis=1))/h0)>ttol:\n",
    "            pts_old = pts\n",
    "            tri = Delaunay(pts).simplices\n",
    "            pts_ctr = (pts[tri[:,0],:]+pts[tri[:,1],:]+pts[tri[:,2],:])/3 # centroids of triangles\n",
    "            tri = tri[fd(pts_ctr) <-geps,:] # keep only interior triangles\n",
    "            Ntri = np.size(tri,axis = 0)\n",
    "            bars = np.concatenate((tri[:,[0,1]],tri[:,[0,2]]),axis = 0)\n",
    "            bars = np.concatenate((bars,tri[:,[1,2]]),axis = 0)\n",
    "            bars = np.unique(np.sort(bars,axis = 1),axis = 0)\n",
    "            Nbars,d = np.shape(bars)\n",
    "            \n",
    "        # move mesh points based on bar lengths L and forces F\n",
    "        barvec=pts[bars[:,0],:]-pts[bars[:,1],:]   # List of bar vectors       \n",
    "        L=np.sqrt(np.sum(barvec**2,axis=1))     # L = Bar lengths\n",
    "        L = np.reshape(L,(Nbars,1))\n",
    "        hbars=fh((pts[bars[:,0],:]+pts[bars[:,1],:])/2) \n",
    "        L0=hbars*Fscale*np.sqrt(sum(L**2)/np.sum(hbars**2)) # L0 = Desired lengths\n",
    "        L0 = np.reshape(L0,(Nbars,1))\n",
    "\n",
    "        # density control: remove points if they are too close\n",
    "        if np.remainder(count,densityctrlfreq)==0 and np.any(L0>2*L):\n",
    "            jremove = np.argwhere(L0>2*L)\n",
    "            Nj = np.size(jremove)\n",
    "            jremove = np.reshape(jremove,(Nj,))\n",
    "            jremove = np.unique(np.reshape(bars[jremove,:],(Nj*2,)))\n",
    "            jremove = np.setdiff1d(jremove,np.arange(nfix))\n",
    "            pts = np.delete(pts,jremove,axis=0)\n",
    "            Npts,d = np.shape(pts) # the number of points\n",
    "            pts_old = math.inf\n",
    "            continue\n",
    "        \n",
    "        F = np.maximum(L0-L,np.zeros_like(L0))\n",
    "        Fvec=np.matmul(F/L,np.ones((1,2)))*barvec  # Bar forces (x,y components)\n",
    "        I = bars[:,0]\n",
    "        J = np.zeros_like(I)\n",
    "        V = Fvec[:,0]\n",
    "        F00 = sparse.coo_matrix((V,(I,J)),shape=(Npts,2)).toarray()\n",
    "        I = bars[:,0]\n",
    "        J = np.ones_like(I)\n",
    "        V = Fvec[:,1]\n",
    "        F01 = sparse.coo_matrix((V,(I,J)),shape=(Npts,2)).toarray()\n",
    "        I = bars[:,1]\n",
    "        J = np.zeros_like(I)\n",
    "        V = -Fvec[:,0]\n",
    "        F10 = sparse.coo_matrix((V,(I,J)),shape=(Npts,2)).toarray()\n",
    "        I = bars[:,1]\n",
    "        J = np.ones_like(I)\n",
    "        V = -Fvec[:,1]\n",
    "        F11 = sparse.coo_matrix((V,(I,J)),shape=(Npts,2)).toarray()\n",
    "        Ftot = F00+F01+F10+F11\n",
    "        Ftot[0:nfix,:] = 0 # force = 0 at fixed points \n",
    "        pts = pts + deltat*Ftot   # Update node positions\n",
    "    \n",
    "        # Bring outside points back to the boundary\n",
    "        d = fd(pts)\n",
    "        idx = np.argwhere(d > 0) # find points outside the domain\n",
    "        Nidx = np.size(idx)\n",
    "        idx = np.reshape(idx,(Nidx,))\n",
    "        \n",
    "        dx = np.zeros_like(pts[idx,:])\n",
    "        dx[:,0] = deps\n",
    "        dgradx = (fd(pts[idx,:]+dx) - d[idx])/deps\n",
    "        dy = np.zeros_like(pts[idx,:])\n",
    "        dy[:,1] = deps       \n",
    "        dgrady = (fd(pts[idx,:]+dy) - d[idx])/deps\n",
    "        dgrad2 = dgradx**2 + dgrady**2\n",
    "        pts[idx,:] = pts[idx,:] - np.concatenate((np.reshape(d[idx]*dgradx/dgrad2,(Nidx,1)),\\\n",
    "                                                  np.reshape(d[idx]*dgrady/dgrad2,(Nidx,1))),axis=1)\n",
    "        \n",
    "        # termination criterion\n",
    "        idx = np.argwhere(d < - geps) # find interior nodes\n",
    "        Nidx = np.size(idx)\n",
    "        idx = np.reshape(idx,(Nidx,))        \n",
    "        displacement = np.amax(np.sqrt(np.sum(deltat*Ftot[idx,:]**2,axis=1))/h0) # mamimal displacement, scaled\n",
    "        if np.remainder(count,jshow)==0:\n",
    "            print(\"count = \",count,\"displacement = \",displacement)\n",
    "       \n",
    "    pts,tri = fixmesh(pts,tri)\n",
    "    plt.triplot(pts[:,0],pts[:,1],tri,linewidth=0.1)\n",
    "    axes=plt.gca()\n",
    "    axes.set_aspect(1)\n",
    "    return pts,tri   "
   ]
  },
  {
   "cell_type": "code",
   "execution_count": 94,
   "id": "fb57aa93",
   "metadata": {},
   "outputs": [
    {
     "name": "stderr",
     "output_type": "stream",
     "text": [
      "C:\\Users\\RyanPC\\AppData\\Local\\Temp\\ipykernel_21564\\761344635.py:136: RuntimeWarning: invalid value encountered in double_scalars\n",
      "  L0=hbars*Fscale*np.sqrt(sum(L**2)/np.sum(hbars**2)) # L0 = Desired lengths\n"
     ]
    },
    {
     "ename": "ValueError",
     "evalue": "zero-size array to reduction operation maximum which has no identity",
     "output_type": "error",
     "traceback": [
      "\u001b[1;31m---------------------------------------------------------------------------\u001b[0m",
      "\u001b[1;31mValueError\u001b[0m                                Traceback (most recent call last)",
      "\u001b[1;32m~\\AppData\\Local\\Temp\\ipykernel_21564\\3587692961.py\u001b[0m in \u001b[0;36m<module>\u001b[1;34m\u001b[0m\n\u001b[0;32m      3\u001b[0m \u001b[1;33m\u001b[0m\u001b[0m\n\u001b[0;32m      4\u001b[0m \u001b[0mpfix\u001b[0m \u001b[1;33m=\u001b[0m \u001b[1;33m[\u001b[0m\u001b[1;33m[\u001b[0m\u001b[1;36m0\u001b[0m\u001b[1;33m,\u001b[0m\u001b[1;36m0\u001b[0m\u001b[1;33m]\u001b[0m\u001b[1;33m,\u001b[0m \u001b[1;33m[\u001b[0m\u001b[1;36m2\u001b[0m\u001b[1;33m,\u001b[0m\u001b[1;36m0\u001b[0m\u001b[1;33m]\u001b[0m\u001b[1;33m,\u001b[0m \u001b[1;33m[\u001b[0m\u001b[1;36m2\u001b[0m\u001b[1;33m,\u001b[0m\u001b[1;36m1\u001b[0m\u001b[1;33m]\u001b[0m\u001b[1;33m,\u001b[0m \u001b[1;33m[\u001b[0m\u001b[1;36m1\u001b[0m\u001b[1;33m,\u001b[0m\u001b[1;36m1\u001b[0m\u001b[1;33m]\u001b[0m\u001b[1;33m,\u001b[0m \u001b[1;33m[\u001b[0m\u001b[1;36m1\u001b[0m\u001b[1;33m,\u001b[0m\u001b[1;36m2\u001b[0m\u001b[1;33m]\u001b[0m\u001b[1;33m,\u001b[0m \u001b[1;33m[\u001b[0m\u001b[1;36m0\u001b[0m\u001b[1;33m,\u001b[0m\u001b[1;36m2\u001b[0m\u001b[1;33m]\u001b[0m\u001b[1;33m]\u001b[0m\u001b[1;33m\u001b[0m\u001b[1;33m\u001b[0m\u001b[0m\n\u001b[1;32m----> 5\u001b[1;33m \u001b[1;33m[\u001b[0m\u001b[0mp\u001b[0m\u001b[1;33m,\u001b[0m\u001b[0mt\u001b[0m\u001b[1;33m]\u001b[0m \u001b[1;33m=\u001b[0m \u001b[0mdistmesh2D\u001b[0m\u001b[1;33m(\u001b[0m\u001b[0mfd\u001b[0m\u001b[1;33m,\u001b[0m \u001b[0mhuniform\u001b[0m\u001b[1;33m,\u001b[0m \u001b[1;36m0.1\u001b[0m\u001b[1;33m,\u001b[0m \u001b[1;33m[\u001b[0m\u001b[1;36m0\u001b[0m\u001b[1;33m,\u001b[0m \u001b[1;36m2\u001b[0m\u001b[1;33m,\u001b[0m \u001b[1;36m0\u001b[0m\u001b[1;33m,\u001b[0m \u001b[1;36m2\u001b[0m\u001b[1;33m]\u001b[0m\u001b[1;33m,\u001b[0m \u001b[0mpfix\u001b[0m\u001b[1;33m)\u001b[0m\u001b[1;33m\u001b[0m\u001b[1;33m\u001b[0m\u001b[0m\n\u001b[0m",
      "\u001b[1;32m~\\AppData\\Local\\Temp\\ipykernel_21564\\761344635.py\u001b[0m in \u001b[0;36mdistmesh2D\u001b[1;34m(fd, fh, h0, bbox, pfix)\u001b[0m\n\u001b[0;32m    191\u001b[0m         \u001b[0mNidx\u001b[0m \u001b[1;33m=\u001b[0m \u001b[0mnp\u001b[0m\u001b[1;33m.\u001b[0m\u001b[0msize\u001b[0m\u001b[1;33m(\u001b[0m\u001b[0midx\u001b[0m\u001b[1;33m)\u001b[0m\u001b[1;33m\u001b[0m\u001b[1;33m\u001b[0m\u001b[0m\n\u001b[0;32m    192\u001b[0m         \u001b[0midx\u001b[0m \u001b[1;33m=\u001b[0m \u001b[0mnp\u001b[0m\u001b[1;33m.\u001b[0m\u001b[0mreshape\u001b[0m\u001b[1;33m(\u001b[0m\u001b[0midx\u001b[0m\u001b[1;33m,\u001b[0m\u001b[1;33m(\u001b[0m\u001b[0mNidx\u001b[0m\u001b[1;33m,\u001b[0m\u001b[1;33m)\u001b[0m\u001b[1;33m)\u001b[0m\u001b[1;33m\u001b[0m\u001b[1;33m\u001b[0m\u001b[0m\n\u001b[1;32m--> 193\u001b[1;33m         \u001b[0mdisplacement\u001b[0m \u001b[1;33m=\u001b[0m \u001b[0mnp\u001b[0m\u001b[1;33m.\u001b[0m\u001b[0mamax\u001b[0m\u001b[1;33m(\u001b[0m\u001b[0mnp\u001b[0m\u001b[1;33m.\u001b[0m\u001b[0msqrt\u001b[0m\u001b[1;33m(\u001b[0m\u001b[0mnp\u001b[0m\u001b[1;33m.\u001b[0m\u001b[0msum\u001b[0m\u001b[1;33m(\u001b[0m\u001b[0mdeltat\u001b[0m\u001b[1;33m*\u001b[0m\u001b[0mFtot\u001b[0m\u001b[1;33m[\u001b[0m\u001b[0midx\u001b[0m\u001b[1;33m,\u001b[0m\u001b[1;33m:\u001b[0m\u001b[1;33m]\u001b[0m\u001b[1;33m**\u001b[0m\u001b[1;36m2\u001b[0m\u001b[1;33m,\u001b[0m\u001b[0maxis\u001b[0m\u001b[1;33m=\u001b[0m\u001b[1;36m1\u001b[0m\u001b[1;33m)\u001b[0m\u001b[1;33m)\u001b[0m\u001b[1;33m/\u001b[0m\u001b[0mh0\u001b[0m\u001b[1;33m)\u001b[0m \u001b[1;31m# mamimal displacement, scaled\u001b[0m\u001b[1;33m\u001b[0m\u001b[1;33m\u001b[0m\u001b[0m\n\u001b[0m\u001b[0;32m    194\u001b[0m         \u001b[1;32mif\u001b[0m \u001b[0mnp\u001b[0m\u001b[1;33m.\u001b[0m\u001b[0mremainder\u001b[0m\u001b[1;33m(\u001b[0m\u001b[0mcount\u001b[0m\u001b[1;33m,\u001b[0m\u001b[0mjshow\u001b[0m\u001b[1;33m)\u001b[0m\u001b[1;33m==\u001b[0m\u001b[1;36m0\u001b[0m\u001b[1;33m:\u001b[0m\u001b[1;33m\u001b[0m\u001b[1;33m\u001b[0m\u001b[0m\n\u001b[0;32m    195\u001b[0m             \u001b[0mprint\u001b[0m\u001b[1;33m(\u001b[0m\u001b[1;34m\"count = \"\u001b[0m\u001b[1;33m,\u001b[0m\u001b[0mcount\u001b[0m\u001b[1;33m,\u001b[0m\u001b[1;34m\"displacement = \"\u001b[0m\u001b[1;33m,\u001b[0m\u001b[0mdisplacement\u001b[0m\u001b[1;33m)\u001b[0m\u001b[1;33m\u001b[0m\u001b[1;33m\u001b[0m\u001b[0m\n",
      "\u001b[1;32m<__array_function__ internals>\u001b[0m in \u001b[0;36mamax\u001b[1;34m(*args, **kwargs)\u001b[0m\n",
      "\u001b[1;32m~\\anaconda3\\lib\\site-packages\\numpy\\core\\fromnumeric.py\u001b[0m in \u001b[0;36mamax\u001b[1;34m(a, axis, out, keepdims, initial, where)\u001b[0m\n\u001b[0;32m   2752\u001b[0m     \u001b[1;36m5\u001b[0m\u001b[1;33m\u001b[0m\u001b[1;33m\u001b[0m\u001b[0m\n\u001b[0;32m   2753\u001b[0m     \"\"\"\n\u001b[1;32m-> 2754\u001b[1;33m     return _wrapreduction(a, np.maximum, 'max', axis, None, out,\n\u001b[0m\u001b[0;32m   2755\u001b[0m                           keepdims=keepdims, initial=initial, where=where)\n\u001b[0;32m   2756\u001b[0m \u001b[1;33m\u001b[0m\u001b[0m\n",
      "\u001b[1;32m~\\anaconda3\\lib\\site-packages\\numpy\\core\\fromnumeric.py\u001b[0m in \u001b[0;36m_wrapreduction\u001b[1;34m(obj, ufunc, method, axis, dtype, out, **kwargs)\u001b[0m\n\u001b[0;32m     84\u001b[0m                 \u001b[1;32mreturn\u001b[0m \u001b[0mreduction\u001b[0m\u001b[1;33m(\u001b[0m\u001b[0maxis\u001b[0m\u001b[1;33m=\u001b[0m\u001b[0maxis\u001b[0m\u001b[1;33m,\u001b[0m \u001b[0mout\u001b[0m\u001b[1;33m=\u001b[0m\u001b[0mout\u001b[0m\u001b[1;33m,\u001b[0m \u001b[1;33m**\u001b[0m\u001b[0mpasskwargs\u001b[0m\u001b[1;33m)\u001b[0m\u001b[1;33m\u001b[0m\u001b[1;33m\u001b[0m\u001b[0m\n\u001b[0;32m     85\u001b[0m \u001b[1;33m\u001b[0m\u001b[0m\n\u001b[1;32m---> 86\u001b[1;33m     \u001b[1;32mreturn\u001b[0m \u001b[0mufunc\u001b[0m\u001b[1;33m.\u001b[0m\u001b[0mreduce\u001b[0m\u001b[1;33m(\u001b[0m\u001b[0mobj\u001b[0m\u001b[1;33m,\u001b[0m \u001b[0maxis\u001b[0m\u001b[1;33m,\u001b[0m \u001b[0mdtype\u001b[0m\u001b[1;33m,\u001b[0m \u001b[0mout\u001b[0m\u001b[1;33m,\u001b[0m \u001b[1;33m**\u001b[0m\u001b[0mpasskwargs\u001b[0m\u001b[1;33m)\u001b[0m\u001b[1;33m\u001b[0m\u001b[1;33m\u001b[0m\u001b[0m\n\u001b[0m\u001b[0;32m     87\u001b[0m \u001b[1;33m\u001b[0m\u001b[0m\n\u001b[0;32m     88\u001b[0m \u001b[1;33m\u001b[0m\u001b[0m\n",
      "\u001b[1;31mValueError\u001b[0m: zero-size array to reduction operation maximum which has no identity"
     ]
    }
   ],
   "source": [
    "# L shape\n",
    "def fd(p):\n",
    "\treturn ddiff(drectangle(p,0,0,2,2), drectangle(p,1,1,2,2))\n",
    "\n",
    "pfix = [[0,0], [2,0], [2,1], [1,1], [1,2], [0,2]]\n",
    "[p,t] = distmesh2D(fd, huniform, 0.1, [0, 2, 0, 2], pfix)"
   ]
  },
  {
   "cell_type": "code",
   "execution_count": 92,
   "id": "4a4ea8e0",
   "metadata": {},
   "outputs": [
    {
     "name": "stdout",
     "output_type": "stream",
     "text": [
      "[[1.0, 0.0], [0.30901699437494745, 0.9510565162951535], [-0.8090169943749473, 0.5877852522924732], [-0.8090169943749475, -0.587785252292473], [0.30901699437494723, -0.9510565162951536]]\n"
     ]
    }
   ],
   "source": [
    "# pentagon with smaller pengaton removed\n",
    "n = 5\n",
    "dt = 2*np.pi/n\n",
    "phi_list = dt*np.array(range(n))\n",
    "pfix = [[np.cos(phi), np.sin(phi)] for phi in phi_list]\n"
   ]
  },
  {
   "cell_type": "code",
   "execution_count": 81,
   "id": "b4f90407",
   "metadata": {},
   "outputs": [
    {
     "ename": "UnboundLocalError",
     "evalue": "local variable 'nfix' referenced before assignment",
     "output_type": "error",
     "traceback": [
      "\u001b[1;31m---------------------------------------------------------------------------\u001b[0m",
      "\u001b[1;31mUnboundLocalError\u001b[0m                         Traceback (most recent call last)",
      "\u001b[1;32m~\\AppData\\Local\\Temp\\ipykernel_21564\\449820941.py\u001b[0m in \u001b[0;36m<module>\u001b[1;34m\u001b[0m\n\u001b[0;32m      2\u001b[0m         \u001b[1;32mreturn\u001b[0m \u001b[0mddiff\u001b[0m\u001b[1;33m(\u001b[0m\u001b[0mddiff\u001b[0m\u001b[1;33m(\u001b[0m\u001b[0mddiff\u001b[0m\u001b[1;33m(\u001b[0m\u001b[0mdcircle\u001b[0m\u001b[1;33m(\u001b[0m\u001b[0mp\u001b[0m\u001b[1;33m,\u001b[0m\u001b[1;36m0\u001b[0m\u001b[1;33m,\u001b[0m\u001b[1;36m0\u001b[0m\u001b[1;33m,\u001b[0m\u001b[1;36m8\u001b[0m\u001b[1;33m)\u001b[0m\u001b[1;33m,\u001b[0m \u001b[0mdrectangle\u001b[0m\u001b[1;33m(\u001b[0m\u001b[0mp\u001b[0m\u001b[1;33m,\u001b[0m\u001b[1;33m-\u001b[0m\u001b[1;36m8\u001b[0m\u001b[1;33m,\u001b[0m\u001b[1;36m0\u001b[0m\u001b[1;33m,\u001b[0m\u001b[1;36m8\u001b[0m\u001b[1;33m,\u001b[0m\u001b[1;36m8\u001b[0m\u001b[1;33m)\u001b[0m\u001b[1;33m)\u001b[0m\u001b[1;33m,\u001b[0m \u001b[0mdcircle\u001b[0m\u001b[1;33m(\u001b[0m\u001b[0mp\u001b[0m\u001b[1;33m,\u001b[0m\u001b[1;33m-\u001b[0m\u001b[1;36m4\u001b[0m\u001b[1;33m,\u001b[0m\u001b[1;33m-\u001b[0m\u001b[1;36m3\u001b[0m\u001b[1;33m,\u001b[0m\u001b[1;36m1.5\u001b[0m\u001b[1;33m)\u001b[0m\u001b[1;33m)\u001b[0m\u001b[1;33m,\u001b[0m \u001b[0mdcircle\u001b[0m\u001b[1;33m(\u001b[0m\u001b[0mp\u001b[0m\u001b[1;33m,\u001b[0m\u001b[1;36m4\u001b[0m\u001b[1;33m,\u001b[0m\u001b[1;33m-\u001b[0m\u001b[1;36m3\u001b[0m\u001b[1;33m,\u001b[0m\u001b[1;36m1.5\u001b[0m\u001b[1;33m)\u001b[0m\u001b[1;33m)\u001b[0m\u001b[1;33m\u001b[0m\u001b[1;33m\u001b[0m\u001b[0m\n\u001b[0;32m      3\u001b[0m \u001b[1;33m\u001b[0m\u001b[0m\n\u001b[1;32m----> 4\u001b[1;33m \u001b[0mdistmesh2D\u001b[0m\u001b[1;33m(\u001b[0m\u001b[0mfd\u001b[0m\u001b[1;33m,\u001b[0m \u001b[0mhuniform\u001b[0m\u001b[1;33m,\u001b[0m \u001b[1;36m0.1\u001b[0m\u001b[1;33m,\u001b[0m \u001b[1;33m[\u001b[0m\u001b[1;33m-\u001b[0m\u001b[1;36m8\u001b[0m\u001b[1;33m,\u001b[0m \u001b[1;36m8\u001b[0m\u001b[1;33m,\u001b[0m \u001b[1;33m-\u001b[0m\u001b[1;36m8\u001b[0m\u001b[1;33m,\u001b[0m \u001b[1;36m8\u001b[0m\u001b[1;33m]\u001b[0m\u001b[1;33m,\u001b[0m \u001b[1;33m[\u001b[0m\u001b[1;33m]\u001b[0m\u001b[1;33m)\u001b[0m\u001b[1;33m\u001b[0m\u001b[1;33m\u001b[0m\u001b[0m\n\u001b[0m",
      "\u001b[1;32m~\\AppData\\Local\\Temp\\ipykernel_21564\\761344635.py\u001b[0m in \u001b[0;36mdistmesh2D\u001b[1;34m(fd, fh, h0, bbox, pfix)\u001b[0m\n\u001b[0;32m    168\u001b[0m         \u001b[0mF11\u001b[0m \u001b[1;33m=\u001b[0m \u001b[0msparse\u001b[0m\u001b[1;33m.\u001b[0m\u001b[0mcoo_matrix\u001b[0m\u001b[1;33m(\u001b[0m\u001b[1;33m(\u001b[0m\u001b[0mV\u001b[0m\u001b[1;33m,\u001b[0m\u001b[1;33m(\u001b[0m\u001b[0mI\u001b[0m\u001b[1;33m,\u001b[0m\u001b[0mJ\u001b[0m\u001b[1;33m)\u001b[0m\u001b[1;33m)\u001b[0m\u001b[1;33m,\u001b[0m\u001b[0mshape\u001b[0m\u001b[1;33m=\u001b[0m\u001b[1;33m(\u001b[0m\u001b[0mNpts\u001b[0m\u001b[1;33m,\u001b[0m\u001b[1;36m2\u001b[0m\u001b[1;33m)\u001b[0m\u001b[1;33m)\u001b[0m\u001b[1;33m.\u001b[0m\u001b[0mtoarray\u001b[0m\u001b[1;33m(\u001b[0m\u001b[1;33m)\u001b[0m\u001b[1;33m\u001b[0m\u001b[1;33m\u001b[0m\u001b[0m\n\u001b[0;32m    169\u001b[0m         \u001b[0mFtot\u001b[0m \u001b[1;33m=\u001b[0m \u001b[0mF00\u001b[0m\u001b[1;33m+\u001b[0m\u001b[0mF01\u001b[0m\u001b[1;33m+\u001b[0m\u001b[0mF10\u001b[0m\u001b[1;33m+\u001b[0m\u001b[0mF11\u001b[0m\u001b[1;33m\u001b[0m\u001b[1;33m\u001b[0m\u001b[0m\n\u001b[1;32m--> 170\u001b[1;33m         \u001b[0mFtot\u001b[0m\u001b[1;33m[\u001b[0m\u001b[1;36m0\u001b[0m\u001b[1;33m:\u001b[0m\u001b[0mnfix\u001b[0m\u001b[1;33m,\u001b[0m\u001b[1;33m:\u001b[0m\u001b[1;33m]\u001b[0m \u001b[1;33m=\u001b[0m \u001b[1;36m0\u001b[0m \u001b[1;31m# force = 0 at fixed points\u001b[0m\u001b[1;33m\u001b[0m\u001b[1;33m\u001b[0m\u001b[0m\n\u001b[0m\u001b[0;32m    171\u001b[0m         \u001b[0mpts\u001b[0m \u001b[1;33m=\u001b[0m \u001b[0mpts\u001b[0m \u001b[1;33m+\u001b[0m \u001b[0mdeltat\u001b[0m\u001b[1;33m*\u001b[0m\u001b[0mFtot\u001b[0m   \u001b[1;31m# Update node positions\u001b[0m\u001b[1;33m\u001b[0m\u001b[1;33m\u001b[0m\u001b[0m\n\u001b[0;32m    172\u001b[0m \u001b[1;33m\u001b[0m\u001b[0m\n",
      "\u001b[1;31mUnboundLocalError\u001b[0m: local variable 'nfix' referenced before assignment"
     ]
    }
   ],
   "source": [
    "# semicircle with two smaller circles removed\n",
    "def fd(p):\n",
    "\treturn ddiff(ddiff(ddiff(dcircle(p,0,0,8), drectangle(p,-8,0,8,8)), dcircle(p,-4,-3,1.5)), dcircle(p,4,-3,1.5))\n",
    "\n",
    "distmesh2D(fd, huniform, 0.1, [-8, 8, -8, 8], [])"
   ]
  },
  {
   "cell_type": "code",
   "execution_count": 84,
   "id": "4e28988a",
   "metadata": {},
   "outputs": [
    {
     "name": "stdout",
     "output_type": "stream",
     "text": [
      "[0 1 2 3 4]\n"
     ]
    }
   ],
   "source": [
    "n=5\n",
    "print(np.array(range(n)))"
   ]
  },
  {
   "cell_type": "code",
   "execution_count": 96,
   "id": "14fab773",
   "metadata": {},
   "outputs": [
    {
     "ename": "ModuleNotFoundError",
     "evalue": "No module named 'shapely'",
     "output_type": "error",
     "traceback": [
      "\u001b[1;31m---------------------------------------------------------------------------\u001b[0m",
      "\u001b[1;31mModuleNotFoundError\u001b[0m                       Traceback (most recent call last)",
      "\u001b[1;32m~\\AppData\\Local\\Temp\\ipykernel_21564\\1888969664.py\u001b[0m in \u001b[0;36m<module>\u001b[1;34m\u001b[0m\n\u001b[1;32m----> 1\u001b[1;33m \u001b[1;32mfrom\u001b[0m \u001b[0mshapely\u001b[0m\u001b[1;33m.\u001b[0m\u001b[0mgeometry\u001b[0m \u001b[1;32mimport\u001b[0m \u001b[0mPoint\u001b[0m\u001b[1;33m\u001b[0m\u001b[1;33m\u001b[0m\u001b[0m\n\u001b[0m\u001b[0;32m      2\u001b[0m \u001b[1;32mfrom\u001b[0m \u001b[0mshapely\u001b[0m\u001b[1;33m.\u001b[0m\u001b[0mgeometry\u001b[0m\u001b[1;33m.\u001b[0m\u001b[0mpolygon\u001b[0m \u001b[1;32mimport\u001b[0m \u001b[0mPolygon\u001b[0m\u001b[1;33m\u001b[0m\u001b[1;33m\u001b[0m\u001b[0m\n\u001b[0;32m      3\u001b[0m \u001b[1;33m\u001b[0m\u001b[0m\n\u001b[0;32m      4\u001b[0m \u001b[0mpoint\u001b[0m \u001b[1;33m=\u001b[0m \u001b[0mPoint\u001b[0m\u001b[1;33m(\u001b[0m\u001b[1;36m0.5\u001b[0m\u001b[1;33m,\u001b[0m \u001b[1;36m0.5\u001b[0m\u001b[1;33m)\u001b[0m\u001b[1;33m\u001b[0m\u001b[1;33m\u001b[0m\u001b[0m\n\u001b[0;32m      5\u001b[0m \u001b[0mpolygon\u001b[0m \u001b[1;33m=\u001b[0m \u001b[0mPolygon\u001b[0m\u001b[1;33m(\u001b[0m\u001b[1;33m[\u001b[0m\u001b[1;33m(\u001b[0m\u001b[1;36m0\u001b[0m\u001b[1;33m,\u001b[0m \u001b[1;36m0\u001b[0m\u001b[1;33m)\u001b[0m\u001b[1;33m,\u001b[0m \u001b[1;33m(\u001b[0m\u001b[1;36m0\u001b[0m\u001b[1;33m,\u001b[0m \u001b[1;36m1\u001b[0m\u001b[1;33m)\u001b[0m\u001b[1;33m,\u001b[0m \u001b[1;33m(\u001b[0m\u001b[1;36m1\u001b[0m\u001b[1;33m,\u001b[0m \u001b[1;36m1\u001b[0m\u001b[1;33m)\u001b[0m\u001b[1;33m,\u001b[0m \u001b[1;33m(\u001b[0m\u001b[1;36m1\u001b[0m\u001b[1;33m,\u001b[0m \u001b[1;36m0\u001b[0m\u001b[1;33m)\u001b[0m\u001b[1;33m]\u001b[0m\u001b[1;33m)\u001b[0m\u001b[1;33m\u001b[0m\u001b[1;33m\u001b[0m\u001b[0m\n",
      "\u001b[1;31mModuleNotFoundError\u001b[0m: No module named 'shapely'"
     ]
    }
   ],
   "source": [
    "from shapely.geometry import Point\n",
    "from shapely.geometry.polygon import Polygon\n",
    "\n",
    "point = Point(0.5, 0.5)\n",
    "polygon = Polygon([(0, 0), (0, 1), (1, 1), (1, 0)])\n",
    "print(polygon.contains(point))"
   ]
  },
  {
   "cell_type": "code",
   "execution_count": 97,
   "id": "54f1bb7e",
   "metadata": {},
   "outputs": [
    {
     "ename": "ModuleNotFoundError",
     "evalue": "No module named 'shapely'",
     "output_type": "error",
     "traceback": [
      "\u001b[1;31m---------------------------------------------------------------------------\u001b[0m",
      "\u001b[1;31mModuleNotFoundError\u001b[0m                       Traceback (most recent call last)",
      "\u001b[1;32m~\\AppData\\Local\\Temp\\ipykernel_21564\\4040332988.py\u001b[0m in \u001b[0;36m<module>\u001b[1;34m\u001b[0m\n\u001b[1;32m----> 1\u001b[1;33m \u001b[1;32mimport\u001b[0m \u001b[0mshapely\u001b[0m\u001b[1;33m\u001b[0m\u001b[1;33m\u001b[0m\u001b[0m\n\u001b[0m",
      "\u001b[1;31mModuleNotFoundError\u001b[0m: No module named 'shapely'"
     ]
    }
   ],
   "source": [
    "import shapely"
   ]
  },
  {
   "cell_type": "code",
   "execution_count": null,
   "id": "0a3da5d9",
   "metadata": {},
   "outputs": [],
   "source": []
  }
 ],
 "metadata": {
  "kernelspec": {
   "display_name": "Python 3 (ipykernel)",
   "language": "python",
   "name": "python3"
  },
  "language_info": {
   "codemirror_mode": {
    "name": "ipython",
    "version": 3
   },
   "file_extension": ".py",
   "mimetype": "text/x-python",
   "name": "python",
   "nbconvert_exporter": "python",
   "pygments_lexer": "ipython3",
   "version": "3.9.13"
  }
 },
 "nbformat": 4,
 "nbformat_minor": 5
}
