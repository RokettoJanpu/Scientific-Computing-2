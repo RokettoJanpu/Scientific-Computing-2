{
 "cells": [
  {
   "cell_type": "code",
   "execution_count": 16,
   "id": "51196a78",
   "metadata": {
    "scrolled": false
   },
   "outputs": [],
   "source": [
    "import numpy as np\n",
    "import matplotlib.pyplot as plt\n",
    "from scipy.sparse import spdiags"
   ]
  },
  {
   "cell_type": "code",
   "execution_count": 17,
   "id": "97d4f3f7",
   "metadata": {
    "scrolled": false
   },
   "outputs": [],
   "source": [
    "# right hand side of Laplace's equation\n",
    "def g(x):\n",
    "    return -np.cos(x) if -np.pi/2 <= x <= np.pi/2 else 0"
   ]
  },
  {
   "cell_type": "code",
   "execution_count": 84,
   "id": "d9f30786",
   "metadata": {
    "scrolled": false
   },
   "outputs": [
    {
     "name": "stdout",
     "output_type": "stream",
     "text": [
      "[[0.10007769 0.23717593 0.45954611 0.83498884 1.00518985 0.82346386\n",
      "  0.43213199 0.18351237 0.10007769]\n",
      " [0.0982022  0.232856   0.45179136 0.82328942 0.99176868 0.81198553\n",
      "  0.4249021  0.180214   0.0982022 ]\n",
      " [0.0926334  0.21999657 0.42857878 0.78796593 0.95113387 0.77731693\n",
      "  0.40324455 0.17038304 0.0926334 ]\n",
      " [0.08354574 0.19890793 0.39008647 0.72832943 0.88214277 0.71874428\n",
      "  0.36727935 0.15422168 0.08354574]\n",
      " [0.07123439 0.17013748 0.33669341 0.64318539 0.78279194 0.63503258\n",
      "  0.31729056 0.13209899 0.07123439]\n",
      " [0.05611963 0.13451237 0.26912187 0.53075619 0.65005737 0.52434954\n",
      "  0.2538716  0.1045969  0.05611963]\n",
      " [0.03874812 0.0931913  0.18868002 0.38855419 0.47964741 0.3841406\n",
      "  0.17817218 0.07256801 0.03874812]\n",
      " [0.01978637 0.04771146 0.09766172 0.21317983 0.26564398 0.2109296\n",
      "  0.09230375 0.03719184 0.01978637]\n",
      " [0.         0.         0.         0.         0.         0.\n",
      "  0.         0.         0.        ]]\n"
     ]
    },
    {
     "data": {
      "image/png": "[encoded data removed]",
      "text/plain": [
       "<Figure size 640x480 with 1 Axes>"
      ]
     },
     "metadata": {},
     "output_type": "display_data"
    }
   ],
   "source": [
    "# set mesh size\n",
    "J = 8\n",
    "hx = 2*np.pi/J\n",
    "hy = 2/J\n",
    "a = 1/hx**2\n",
    "b = 1/hy**2\n",
    "c = a + b\n",
    "\n",
    "# define block structure of A\n",
    "v = b*np.ones(J)\n",
    "v[1] = 2*b\n",
    "T = spdiags([b*np.ones(J), -2*c*np.ones(J), v], [-1, 0, 1]).toarray()\n",
    "S = spdiags([np.ones(J), np.ones(J)], [-1, 1]).toarray()\n",
    "A = np.kron(np.identity(J), T) + np.kron(S, a*np.identity(J))\n",
    "\n",
    "# define f\n",
    "f = np.zeros(J**2)\n",
    "for j in range(J**2):\n",
    "    f[j] = g(-np.pi + int(j/J)*hx)\n",
    "\n",
    "# solve Au=f for u, convert u to 2d array, fill in BCs\n",
    "u = np.linalg.solve(A, f)\n",
    "u = np.reshape(u, (J, J), order = 'F')\n",
    "u = np.pad(u, (0, 1))\n",
    "for j in range(J):\n",
    "    u[j][-1] = u[j][0]\n",
    "\n",
    "# plot u\n",
    "plt.imshow(u, interpolation = 'none')\n",
    "plt.show()"
   ]
  },
  {
   "cell_type": "code",
   "execution_count": null,
   "id": "5fe757b5",
   "metadata": {},
   "outputs": [],
   "source": []
  }
 ],
 "metadata": {
  "kernelspec": {
   "display_name": "Python 3 (ipykernel)",
   "language": "python",
   "name": "python3"
  },
  "language_info": {
   "codemirror_mode": {
    "name": "ipython",
    "version": 3
   },
   "file_extension": ".py",
   "mimetype": "text/x-python",
   "name": "python",
   "nbconvert_exporter": "python",
   "pygments_lexer": "ipython3",
   "version": "3.9.13"
  }
 },
 "nbformat": 4,
 "nbformat_minor": 5
}
