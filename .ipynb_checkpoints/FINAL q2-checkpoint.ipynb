{
 "cells": [
  {
   "cell_type": "code",
   "execution_count": 1,
   "id": "47c3c442",
   "metadata": {},
   "outputs": [],
   "source": [
    "import numpy as np\n",
    "import matplotlib.pyplot as plt\n",
    "import math"
   ]
  },
  {
   "cell_type": "code",
   "execution_count": 2,
   "id": "783bb067",
   "metadata": {},
   "outputs": [],
   "source": [
    "# initial condition\n",
    "k0 = 10\n",
    "s0 = 0.1\n",
    "def psi0(x):\n",
    "    return (2*np.pi*s0**2)**(-0.25)*np.exp(-x**2/(4*s0**2) + j*k0*x)"
   ]
  },
  {
   "cell_type": "code",
   "execution_count": 3,
   "id": "85fabc8b",
   "metadata": {},
   "outputs": [
    {
     "data": {
      "text/plain": [
       "1.189207115002721"
      ]
     },
     "execution_count": 3,
     "metadata": {},
     "output_type": "execute_result"
    }
   ],
   "source": []
  },
  {
   "cell_type": "code",
   "execution_count": null,
   "id": "50edf5c6",
   "metadata": {},
   "outputs": [],
   "source": []
  }
 ],
 "metadata": {
  "kernelspec": {
   "display_name": "Python 3 (ipykernel)",
   "language": "python",
   "name": "python3"
  },
  "language_info": {
   "codemirror_mode": {
    "name": "ipython",
    "version": 3
   },
   "file_extension": ".py",
   "mimetype": "text/x-python",
   "name": "python",
   "nbconvert_exporter": "python",
   "pygments_lexer": "ipython3",
   "version": "3.9.13"
  }
 },
 "nbformat": 4,
 "nbformat_minor": 5
}
