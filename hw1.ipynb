{
 "cells": [
  {
   "cell_type": "code",
   "execution_count": 1,
   "id": "48418a35",
   "metadata": {},
   "outputs": [],
   "source": [
    "import numpy as np\n",
    "import matplotlib.pyplot as plt\n",
    "import scipy.integrate as sci"
   ]
  },
  {
   "cell_type": "code",
   "execution_count": null,
   "id": "9f81ba6f",
   "metadata": {},
   "outputs": [],
   "source": [
    "def f(t,y):\n",
    "    # The right-hand side for the 2D gravity ODE\n",
    "    dy = np.zeros((4,))\n",
    "    dy[0] = y[2]\n",
    "    dy[1] = y[3]\n",
    "    aux = y[0]*y[0]+y[1]*y[1]\n",
    "    dy[2] = -y[0]/aux\n",
    "    dy[3] = -y[1]/aux\n",
    "    return dy\n",
    "\n",
    "# initial condition for the unit circle solution\n",
    "y0 = np.array([1,0,0,1])\n",
    "\n",
    "# for the exact solution\n",
    "tt = np.linspace(0,2*np.pi,200)\n",
    "\n",
    "# parameters\n",
    "for Nloops in [20,40,80]:\n",
    "    tmax = Nloops*2*np.pi\n",
    "    steps_per_loop = 2\n",
    "    Nt = Nloops*steps_per_loop\n",
    "    dt = 2*np.pi/steps_per_loop\n"
   ]
  }
 ],
 "metadata": {
  "kernelspec": {
   "display_name": "Python 3 (ipykernel)",
   "language": "python",
   "name": "python3"
  },
  "language_info": {
   "codemirror_mode": {
    "name": "ipython",
    "version": 3
   },
   "file_extension": ".py",
   "mimetype": "text/x-python",
   "name": "python",
   "nbconvert_exporter": "python",
   "pygments_lexer": "ipython3",
   "version": "3.9.13"
  }
 },
 "nbformat": 4,
 "nbformat_minor": 5
}
